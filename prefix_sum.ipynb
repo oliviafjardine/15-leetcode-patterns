{
 "cells": [
  {
   "cell_type": "markdown",
   "id": "0e022022",
   "metadata": {},
   "source": [
    "# Prefix Sum"
   ]
  },
  {
   "cell_type": "markdown",
   "id": "0fd9c2b2",
   "metadata": {},
   "source": [
    "## What is a prefix sum?\n",
    "Definition: the cummulative sum or an array.\n",
    "\n",
    "For example, given the following array:\n",
    "```python\n",
    "[2, 3, 4]\n",
    "```\n",
    "The prefix sum would be:\n",
    "[0, 2, 5, 9] # where each element represents the sum of all elements up to that point."
   ]
  },
  {
   "cell_type": "code",
   "execution_count": null,
   "id": "feb1786e",
   "metadata": {},
   "outputs": [
    {
     "name": "stdout",
     "output_type": "stream",
     "text": [
      "[0, 1, 3, 6, 10, 15, 21, 28, 36]\n"
     ]
    }
   ],
   "source": [
    "from typing import List\n",
    "\n",
    "# original array = [1, 2, 3, 4, 5, 6, 7, 8]\n",
    "# prefix sum array = [0, 1, 3, 6, 10, 15, 21, 28, 36]\n",
    "\n",
    "# Time complexity: O(n)\n",
    "# Space complexity O(n + 1)\n",
    "\n",
    "def prefix_sum(arr: List[int]) -> List[int]:\n",
    "    prefix_sum = [0] * (len(arr) + 1)\n",
    "\n",
    "    for i in range(len(arr)):\n",
    "        prefix_sum[i + 1] = arr[i] + prefix_sum[i]\n",
    "\n",
    "    return prefix_sum\n",
    "\n",
    "def main():\n",
    "    arr: List[int] = [1, 2, 3, 4, 5, 6, 7, 8]\n",
    "    print(prefix_sum(arr))\n",
    "\n",
    "if __name__ ==\"__main__\":\n",
    "    main()"
   ]
  },
  {
   "cell_type": "markdown",
   "id": "5b002c49",
   "metadata": {},
   "source": [
    "## Common Use Cases\n",
    "1. Range sum queries - compute the sum of elements between two indices i and j\n",
    "2. Subarray sum problems - find or count the number of subarrays that add up to a specific value"
   ]
  },
  {
   "cell_type": "markdown",
   "id": "f18f6ec0",
   "metadata": {},
   "source": [
    "## Leetcode Problems\n",
    "- 303. Range Sum Query - Immutable (Easy)\n",
    "-\n",
    "-"
   ]
  },
  {
   "cell_type": "markdown",
   "id": "8b463d99",
   "metadata": {},
   "source": [
    "### 303. Range Sum Query - Immutable (Easy)"
   ]
  },
  {
   "cell_type": "code",
   "execution_count": null,
   "id": "b66c19f2",
   "metadata": {},
   "outputs": [],
   "source": [
    "from typing import List\n",
    "\n",
    "class NumArray:\n",
    "\n",
    "    def __init__(self, nums: List[int]):\n",
    "        # initalize prefix to 1 element array of 0\n",
    "        self.prefix = [0]\n",
    "        # for each num in array\n",
    "        for num in nums:\n",
    "            self.prefix.append(self.prefix[-1] + num)\n",
    "\n",
    "    def sumRange(self, left: int, right: int) -> int:\n",
    "        return self.prefix[right + 1] - self.prefix[left]"
   ]
  }
 ],
 "metadata": {
  "kernelspec": {
   "display_name": ".venv",
   "language": "python",
   "name": "python3"
  },
  "language_info": {
   "codemirror_mode": {
    "name": "ipython",
    "version": 3
   },
   "file_extension": ".py",
   "mimetype": "text/x-python",
   "name": "python",
   "nbconvert_exporter": "python",
   "pygments_lexer": "ipython3",
   "version": "3.12.4"
  }
 },
 "nbformat": 4,
 "nbformat_minor": 5
}
