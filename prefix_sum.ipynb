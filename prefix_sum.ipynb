{
 "cells": [
  {
   "cell_type": "markdown",
   "id": "0e022022",
   "metadata": {},
   "source": [
    "# Prefix Sum"
   ]
  },
  {
   "cell_type": "markdown",
   "id": "0a5d605a",
   "metadata": {},
   "source": [
    "## Common Use Cases:\n",
    "- Query sum of elements in a subarray\n"
   ]
  },
  {
   "cell_type": "code",
   "execution_count": 16,
   "id": "11bff945",
   "metadata": {},
   "outputs": [
    {
     "name": "stdout",
     "output_type": "stream",
     "text": [
      "15\n",
      "15\n"
     ]
    }
   ],
   "source": [
    "# Single Query (no prefix sum)\n",
    "def find_subarray_sum(arr, i, j):\n",
    "    subarray_sum = 0\n",
    "\n",
    "    for k in range(i, j): # O(n)\n",
    "        subarray_sum += arr[i + 1]\n",
    "    \n",
    "    print(subarray_sum)\n",
    "\n",
    "if __name__ == \"__main__\":\n",
    "    arr = [1, 2, 3, 4, 5, 6, 7, 8]\n",
    "    find_subarray_sum(arr, 3, 6)\n",
    "    print(sum(arr[3:6]))\n",
    "\n"
   ]
  },
  {
   "cell_type": "code",
   "execution_count": 17,
   "id": "578dfad2",
   "metadata": {},
   "outputs": [],
   "source": [
    "# Multiple Queries can be O(n * m) where m = num of queries and n = length of array\n",
    "\n",
    "# Instead, create prefix sum array\n",
    "# SUM[i, j] = P[j] - P[i - 1]"
   ]
  }
 ],
 "metadata": {
  "kernelspec": {
   "display_name": ".venv",
   "language": "python",
   "name": "python3"
  },
  "language_info": {
   "codemirror_mode": {
    "name": "ipython",
    "version": 3
   },
   "file_extension": ".py",
   "mimetype": "text/x-python",
   "name": "python",
   "nbconvert_exporter": "python",
   "pygments_lexer": "ipython3",
   "version": "3.12.4"
  }
 },
 "nbformat": 4,
 "nbformat_minor": 5
}
