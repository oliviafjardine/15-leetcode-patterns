{
 "cells": [
  {
   "cell_type": "markdown",
   "id": "add67e4e",
   "metadata": {},
   "source": [
    "# Two Pointers"
   ]
  }
 ],
 "metadata": {
  "language_info": {
   "name": "python"
  }
 },
 "nbformat": 4,
 "nbformat_minor": 5
}
